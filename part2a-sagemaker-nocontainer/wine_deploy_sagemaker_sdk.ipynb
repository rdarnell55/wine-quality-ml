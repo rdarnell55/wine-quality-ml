{
 "cells": [
  {
   "cell_type": "code",
   "execution_count": 1,
   "id": "beeefb51-b0e6-4687-be25-68cae9135892",
   "metadata": {},
   "outputs": [
    {
     "name": "stdout",
     "output_type": "stream",
     "text": [
      "sagemaker.config INFO - Not applying SDK defaults from location: /etc/xdg/sagemaker/config.yaml\n",
      "sagemaker.config INFO - Not applying SDK defaults from location: /home/sagemaker-user/.config/sagemaker/config.yaml\n"
     ]
    }
   ],
   "source": [
    "# Step 1: Import Required Libraries\n",
    "\n",
    "import time\n",
    "import sagemaker\n",
    "from sagemaker.sklearn.model import SKLearnModel\n",
    "from sagemaker import get_execution_role"
   ]
  },
  {
   "cell_type": "code",
   "execution_count": 2,
   "id": "b8002f51-8cb2-4cac-b650-aa1384c53906",
   "metadata": {},
   "outputs": [],
   "source": [
    "# Step 2: Define model location and SageMaker session\n",
    "\n",
    "model_uri = \"s3://sagemaker-us-east-2-998072949015/wine-quality-model/model.tar.gz\"\n",
    "role = get_execution_role()\n",
    "sagemaker_session = sagemaker.Session()"
   ]
  },
  {
   "cell_type": "code",
   "execution_count": 3,
   "id": "7a2e718d-4576-4ba3-9593-1e34567c4c01",
   "metadata": {},
   "outputs": [],
   "source": [
    "# Step 3: Specify entry point script for inference\n",
    "# This must define a 'model_fn' and 'predict_fn' in a file called predictor.py\n",
    "\n",
    "sklearn_model = SKLearnModel(\n",
    "    model_data=model_uri,\n",
    "    role=role,\n",
    "    entry_point=\"predictor.py\",  # make sure this file is in your working directory\n",
    "    framework_version=\"1.2-1\",\n",
    "    sagemaker_session=sagemaker_session\n",
    ")"
   ]
  },
  {
   "cell_type": "code",
   "execution_count": 4,
   "id": "6a37d6ac-e13b-4d34-ad69-f48e94c815c9",
   "metadata": {},
   "outputs": [
    {
     "name": "stdout",
     "output_type": "stream",
     "text": [
      "--------!Endpoint deployed at: wine-quality-endpoint-1748042764\n"
     ]
    }
   ],
   "source": [
    "# Step 4: Deploy the model to a real-time endpoint\n",
    "\n",
    "endpoint_name = f\"wine-quality-endpoint-{int(time.time())}\"\n",
    "predictor = sklearn_model.deploy(\n",
    "    initial_instance_count=1,\n",
    "    instance_type=\"ml.m5.large\",\n",
    "    endpoint_name=endpoint_name\n",
    ")\n",
    "\n",
    "print(f\"Endpoint deployed at: {endpoint_name}\")"
   ]
  },
  {
   "cell_type": "code",
   "execution_count": 5,
   "id": "6fe4b4a2-4c85-44ed-9043-5e9cb9237e9d",
   "metadata": {},
   "outputs": [
    {
     "name": "stdout",
     "output_type": "stream",
     "text": [
      "Predicted wine quality score: [5.04834495]\n"
     ]
    }
   ],
   "source": [
    "# Step 5: Test the Endpoint\n",
    "\n",
    "import pandas as pd\n",
    "\n",
    "# Step 5: Create a sample input (one row of wine data)\n",
    "# Make sure this matches the order and format of your model's training data\n",
    "sample_input = pd.DataFrame([{\n",
    "    \"fixed acidity\": 7.4,\n",
    "    \"volatile acidity\": 0.70,\n",
    "    \"citric acid\": 0.00,\n",
    "    \"residual sugar\": 1.9,\n",
    "    \"chlorides\": 0.076,\n",
    "    \"free sulfur dioxide\": 11.0,\n",
    "    \"total sulfur dioxide\": 34.0,\n",
    "    \"density\": 0.9978,\n",
    "    \"pH\": 3.51,\n",
    "    \"sulphates\": 0.56,\n",
    "    \"alcohol\": 9.4\n",
    "}])\n",
    "\n",
    "# Step 6: Run the prediction\n",
    "prediction = predictor.predict(sample_input)\n",
    "\n",
    "print(\"Predicted wine quality score:\", prediction)"
   ]
  }
 ],
 "metadata": {
  "kernelspec": {
   "display_name": "Python 3 (ipykernel)",
   "language": "python",
   "name": "python3"
  },
  "language_info": {
   "codemirror_mode": {
    "name": "ipython",
    "version": 3
   },
   "file_extension": ".py",
   "mimetype": "text/x-python",
   "name": "python",
   "nbconvert_exporter": "python",
   "pygments_lexer": "ipython3",
   "version": "3.12.9"
  }
 },
 "nbformat": 4,
 "nbformat_minor": 5
}
