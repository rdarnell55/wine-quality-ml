{
 "cells": [
  {
   "cell_type": "code",
   "execution_count": 1,
   "id": "fdb29a3d-89ec-4e74-ba83-726f4a2ec438",
   "metadata": {},
   "outputs": [
    {
     "name": "stdout",
     "output_type": "stream",
     "text": [
      "sagemaker.config INFO - Not applying SDK defaults from location: /etc/xdg/sagemaker/config.yaml\n",
      "sagemaker.config INFO - Not applying SDK defaults from location: /home/sagemaker-user/.config/sagemaker/config.yaml\n"
     ]
    }
   ],
   "source": [
    "# Step 1: Import necessary libraries\n",
    "import time\n",
    "import sagemaker\n",
    "from sagemaker.model import Model"
   ]
  },
  {
   "cell_type": "code",
   "execution_count": 2,
   "id": "b7fd1b72-9d41-43fa-9f54-8c4529987812",
   "metadata": {},
   "outputs": [],
   "source": [
    "# Step 2: SageMaker session & execution role (this works in Studio/notebook instances)\n",
    "sagemaker_session = sagemaker.Session()\n",
    "role = sagemaker.get_execution_role()"
   ]
  },
  {
   "cell_type": "code",
   "execution_count": 3,
   "id": "33b6b8fb-d27f-465e-9d25-15e35260086c",
   "metadata": {},
   "outputs": [],
   "source": [
    "# Step 3: ECR image URI\n",
    "container_image_uri = (\"998072949015.dkr.ecr.us-east-2.amazonaws.com/wine-quality-container:latest\")"
   ]
  },
  {
   "cell_type": "code",
   "execution_count": 4,
   "id": "d0357558-ff33-4327-a0bd-f645ac9bd1c2",
   "metadata": {},
   "outputs": [],
   "source": [
    "# Step 4: Define the Model, telling SageMaker which container to use\n",
    "model = Model(\n",
    "    image_uri=container_image_uri,\n",
    "    role=role,\n",
    "    sagemaker_session=sagemaker_session\n",
    ")"
   ]
  },
  {
   "cell_type": "code",
   "execution_count": 5,
   "id": "809c31c8-0854-4034-8770-ad9c04b91332",
   "metadata": {},
   "outputs": [
    {
     "name": "stdout",
     "output_type": "stream",
     "text": [
      "------!Deployed!  Endpoint name: wine-quality-endpoint-1748125390\n"
     ]
    }
   ],
   "source": [
    "# Step 5: Deploy the model to endpoint\n",
    "endpoint_name = f\"wine-quality-endpoint-{int(time.time())}\"\n",
    "predictor = model.deploy(\n",
    "    initial_instance_count=1,\n",
    "    instance_type=\"ml.t2.medium\",    # smaller instance with spare quota\n",
    "    endpoint_name=endpoint_name\n",
    ")\n",
    "\n",
    "print(f\"Deployed!  Endpoint name: {endpoint_name}\")"
   ]
  },
  {
   "cell_type": "code",
   "execution_count": 8,
   "id": "013d74a4-33c1-48d2-8b13-82fec8cf3b2c",
   "metadata": {},
   "outputs": [
    {
     "name": "stdout",
     "output_type": "stream",
     "text": [
      "[5.0483449478604285]\n"
     ]
    }
   ],
   "source": [
    "from predictor import get_predictor, predict_wine_quality\n",
    "import pandas as pd\n",
    "\n",
    "ENDPOINT = endpoint_name\n",
    "predictor = get_predictor(ENDPOINT)\n",
    "sample_input = pd.DataFrame([{\n",
    "    \"fixed acidity\": 7.4, \"volatile acidity\": 0.70, \"citric acid\": 0.00,\n",
    "    \"residual sugar\": 1.9, \"chlorides\": 0.076, \"free sulfur dioxide\": 11.0,\n",
    "    \"total sulfur dioxide\": 34.0, \"density\": 0.9978, \"pH\": 3.51,\n",
    "    \"sulphates\": 0.56, \"alcohol\": 9.4\n",
    "}])\n",
    "print(predict_wine_quality(sample_input, predictor))\n"
   ]
  },
  {
   "cell_type": "code",
   "execution_count": null,
   "id": "36e6a37e-366b-4559-aa55-26559e55a183",
   "metadata": {},
   "outputs": [],
   "source": []
  }
 ],
 "metadata": {
  "kernelspec": {
   "display_name": "Python 3 (ipykernel)",
   "language": "python",
   "name": "python3"
  },
  "language_info": {
   "codemirror_mode": {
    "name": "ipython",
    "version": 3
   },
   "file_extension": ".py",
   "mimetype": "text/x-python",
   "name": "python",
   "nbconvert_exporter": "python",
   "pygments_lexer": "ipython3",
   "version": "3.12.9"
  }
 },
 "nbformat": 4,
 "nbformat_minor": 5
}
